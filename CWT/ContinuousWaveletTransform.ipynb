{
  "cells": [
    {
      "cell_type": "code",
      "execution_count": null,
      "metadata": {
        "colab": {
          "base_uri": "https://localhost:8080/"
        },
        "id": "Lbp8zC0Vb_3X",
        "outputId": "8ddea67e-6bd0-4f27-d59e-45ffff7f9033"
      },
      "outputs": [
        {
          "name": "stdout",
          "output_type": "stream",
          "text": [
            "Mounted at /content/drive\n"
          ]
        }
      ],
      "source": [
        "from google.colab import drive\n",
        "drive.mount('/content/drive')"
      ]
    },
    {
      "cell_type": "code",
      "execution_count": null,
      "metadata": {
        "colab": {
          "base_uri": "https://localhost:8080/"
        },
        "id": "M1xQTnQIcDck",
        "outputId": "f91433cf-48f7-46f3-d44f-3d80e1c6d04e"
      },
      "outputs": [
        {
          "name": "stdout",
          "output_type": "stream",
          "text": [
            "DL_Pipeline  HilbertOutput  InputImageForStacking  RawData\n"
          ]
        }
      ],
      "source": [
        "!ls \"/content/drive/My Drive/ML_Seizure_Project\""
      ]
    },
    {
      "cell_type": "code",
      "execution_count": null,
      "metadata": {
        "id": "LgzUTHDE3-5r"
      },
      "outputs": [],
      "source": [
        "\n",
        "from __future__ import absolute_import\n",
        "from __future__ import division\n",
        "from __future__ import print_function\n",
        "\n",
        "import numpy as np\n",
        "import tensorflow as tf\n",
        "\n",
        "class ContinuousWaveletTransform(object):\n",
        "    def __init__(self, n_scales, border_crop=0, stride=1, name=\"cwt\"):\n",
        "        self.n_scales = n_scales\n",
        "        self.border_crop = border_crop\n",
        "        self.stride = stride\n",
        "        self.name = name\n",
        "        with tf.compat.v1.variable_scope(self.name):\n",
        "            self.real_part, self.imaginary_part = self._build_wavelet_bank()\n",
        "\n",
        "    def _build_wavelet_bank(self):\n",
        "        real_part = None\n",
        "        imaginary_part = None\n",
        "        return real_part, imaginary_part\n",
        "\n",
        "    def __call__(self, inputs):\n",
        "\n",
        "        border_crop = int(self.border_crop / self.stride)\n",
        "        start = border_crop\n",
        "        end = (-border_crop) if (border_crop > 0) else None\n",
        "        with tf.compat.v1.variable_scope(self.name):\n",
        "\n",
        "            inputs_unstacked = tf.unstack(inputs, axis=2)\n",
        "            multi_channel_cwt = []\n",
        "            for j, single_channel in enumerate(inputs_unstacked):\n",
        "                inputs_expand = tf.expand_dims(single_channel, axis=1)\n",
        "                inputs_expand = tf.expand_dims(inputs_expand, axis=3)\n",
        "                with tf.name_scope('%s_%d' % (self.name, j)):\n",
        "                    bank_real = self.real_part\n",
        "                    bank_imag = -self.imaginary_part\n",
        "                    out_real = tf.nn.conv2d(\n",
        "                        input=inputs_expand, filters=bank_real,\n",
        "                        strides=[1, 1, self.stride, 1], padding=\"SAME\")\n",
        "                    out_imag = tf.nn.conv2d(\n",
        "                        input=inputs_expand, filters=bank_imag,\n",
        "                        strides=[1, 1, self.stride, 1], padding=\"SAME\")\n",
        "                    out_real_crop = out_real[:, :, start:end, :]\n",
        "                    out_imag_crop = out_imag[:, :, start:end, :]\n",
        "                    out_concat = tf.concat(\n",
        "                        [out_real_crop, out_imag_crop], axis=1)\n",
        "                    single_scalogram = tf.transpose(\n",
        "                        out_concat, perm=[0, 2, 3, 1])\n",
        "                    multi_channel_cwt.append(single_scalogram)\n",
        "            scalograms = tf.concat(multi_channel_cwt, -1)\n",
        "        return scalograms"
      ]
    },
    {
      "cell_type": "code",
      "execution_count": null,
      "metadata": {
        "id": "XDLA-25047MT"
      },
      "outputs": [],
      "source": [
        "class ComplexMorletCWT(ContinuousWaveletTransform):\n",
        "    def __init__(\n",
        "            self,\n",
        "            wavelet_width,\n",
        "            fs,\n",
        "            lower_freq,\n",
        "            upper_freq,\n",
        "            n_scales,\n",
        "            size_factor=1.0,\n",
        "            trainable=False,\n",
        "            border_crop=0,\n",
        "            stride=1,\n",
        "            name=\"cwt\"):\n",
        "\n",
        "        if lower_freq > upper_freq:\n",
        "            raise ValueError(\"lower_freq should be lower than upper_freq\")\n",
        "        if lower_freq < 0:\n",
        "            raise ValueError(\"Expected positive lower_freq.\")\n",
        "\n",
        "        self.initial_wavelet_width = wavelet_width\n",
        "        self.fs = fs\n",
        "        self.lower_freq = lower_freq\n",
        "        self.upper_freq = upper_freq\n",
        "        self.size_factor = size_factor\n",
        "        self.trainable = trainable\n",
        "        s_0 = 1 / self.upper_freq\n",
        "        s_n = 1 / self.lower_freq\n",
        "        base = np.power(s_n / s_0, 1 / (n_scales - 1))\n",
        "        self.scales = s_0 * np.power(base, np.arange(n_scales))\n",
        "        self.frequencies = 1 / self.scales\n",
        "        self.wavelet_width = tf.Variable(\n",
        "            initial_value=self.initial_wavelet_width,\n",
        "            trainable=self.trainable,\n",
        "            name='wavelet_width',\n",
        "            dtype=tf.float32)\n",
        "        super().__init__(n_scales, border_crop, stride, name)\n",
        "\n",
        "    def _build_wavelet_bank(self):\n",
        "        with  tf.compat.v1.variable_scope(\"cmorlet_bank\"):\n",
        "\n",
        "            truncation_size = self.scales.max() * np.sqrt(4.5 * self.initial_wavelet_width) * self.fs\n",
        "            one_side = int(self.size_factor * truncation_size)\n",
        "            kernel_size = 2 * one_side + 1\n",
        "            k_array = np.arange(kernel_size, dtype=np.float32) - one_side\n",
        "            t_array = k_array / self.fs\n",
        "            wavelet_bank_real = []\n",
        "            wavelet_bank_imag = []\n",
        "            for scale in self.scales:\n",
        "                norm_constant = tf.sqrt(np.pi * self.wavelet_width) * scale * self.fs / 2.0\n",
        "                scaled_t = t_array / scale\n",
        "                exp_term = tf.exp(-(scaled_t ** 2) / self.wavelet_width)\n",
        "                kernel_base = exp_term / norm_constant\n",
        "                kernel_real = kernel_base * np.cos(2 * np.pi * scaled_t)\n",
        "                kernel_imag = kernel_base * np.sin(2 * np.pi * scaled_t)\n",
        "                wavelet_bank_real.append(kernel_real)\n",
        "                wavelet_bank_imag.append(kernel_imag)\n",
        "            wavelet_bank_real = tf.stack(wavelet_bank_real, axis=-1)\n",
        "            wavelet_bank_imag = tf.stack(wavelet_bank_imag, axis=-1)\n",
        "\n",
        "            wavelet_bank_real = tf.expand_dims(wavelet_bank_real, axis=0)\n",
        "            wavelet_bank_imag = tf.expand_dims(wavelet_bank_imag, axis=0)\n",
        "            wavelet_bank_real = tf.expand_dims(wavelet_bank_real, axis=2)\n",
        "            wavelet_bank_imag = tf.expand_dims(wavelet_bank_imag, axis=2)\n",
        "        return wavelet_bank_real, wavelet_bank_imag"
      ]
    },
    {
      "cell_type": "code",
      "execution_count": null,
      "metadata": {
        "id": "3oXyfRkK4mys"
      },
      "outputs": [],
      "source": [
        "import matplotlib.pyplot as plt\n",
        "import numpy as np\n",
        "import tensorflow as tf\n",
        "import pandas as pd\n",
        "\n",
        "%matplotlib inline"
      ]
    },
    {
      "cell_type": "code",
      "execution_count": null,
      "metadata": {
        "id": "ihTmp_Fa4NNb"
      },
      "outputs": [],
      "source": [
        "df = pd.read_csv(\"/content/drive/My Drive/ML_Seizure_Project/HilbertOutput/p034seizure/sub_2.csv\",skiprows=1, header=None, delimiter='\\t')\n",
        "df = df.apply(pd.to_numeric, errors='coerce')\n",
        "fs=200\n",
        "\n",
        "demo_signal = df.values.astype(float)\n",
        "\n",
        "n_samples_per_channel = demo_signal.shape[0]\n",
        "time_axis = np.arange(0, n_samples_per_channel) / fs"
      ]
    },
    {
      "cell_type": "code",
      "execution_count": null,
      "metadata": {
        "colab": {
          "base_uri": "https://localhost:8080/"
        },
        "id": "QS4YwWoL4tP9",
        "outputId": "2d4e6163-d117-4338-f68e-5e7138274d96"
      },
      "outputs": [
        {
          "name": "stdout",
          "output_type": "stream",
          "text": [
            "[30.         26.88265645 24.0892406  21.58609264 19.34305042 17.33308597\n",
            " 15.53197985 13.91802927 12.47178665 11.17582519 10.01452897  8.97390473\n",
            "  8.04141326  7.20581834  6.45705129  5.78608972  5.18484874  4.64608358\n",
            "  4.16330229  3.73068751  3.34302635  2.99564763  2.68436554  2.40542922\n",
            "  2.15547758  1.93149877  1.73079393  1.55094462  1.38978371  1.24536927\n",
            "  1.11596114  1.        ]\n"
          ]
        }
      ],
      "source": [
        "lower_freq = 1\n",
        "upper_freq = 30\n",
        "n_scales = 32\n",
        "wavelet_width = 1\n",
        "\n",
        "tf.compat.v1.reset_default_graph()\n",
        "\n",
        "tf.compat.v1.disable_eager_execution()\n",
        "\n",
        "cwt = ComplexMorletCWT(wavelet_width, fs, lower_freq, upper_freq, n_scales)\n",
        "\n",
        "print(cwt.frequencies)"
      ]
    },
    {
      "cell_type": "code",
      "execution_count": null,
      "metadata": {
        "id": "_aLE3rQY4yL6"
      },
      "outputs": [],
      "source": [
        "which_scale = -1\n",
        "\n",
        "real_bank = cwt.real_part\n",
        "imag_bank = cwt.imaginary_part\n",
        "single_real_wavelet = real_bank[0, :, 0, which_scale]\n",
        "single_imag_wavelet = imag_bank[0, :, 0, which_scale]"
      ]
    },
    {
      "cell_type": "code",
      "execution_count": null,
      "metadata": {
        "id": "bKubdrVj41Pm"
      },
      "outputs": [],
      "source": [
        "with tf.compat.v1.Session() as sess:\n",
        "    sess.run(tf.compat.v1.global_variables_initializer())\n",
        "    np_single_real_wavelet, np_single_imag_wavelet = sess.run([single_real_wavelet, single_imag_wavelet])\n",
        "\n",
        "single_wavelet_size = np_single_real_wavelet.size\n",
        "time_axis = np.arange(0, single_wavelet_size) / fs\n",
        "time_axis = time_axis - np.mean(time_axis)\n",
        "\n",
        "# plt.figure(figsize=(10,4), dpi=80)\n",
        "# plt.plot(time_axis, np_single_real_wavelet, label=\"Real part\")\n",
        "# plt.plot(time_axis, np_single_imag_wavelet, label=\"Imaginary part\")\n",
        "# plt.title(\"Complex Morlet Wavelet for %1.2f Hz (%d samples)\" % (cwt.frequencies[which_scale], single_wavelet_size))\n",
        "# plt.legend()\n",
        "# plt.xlabel(\"Time [s]\")"
      ]
    },
    {
      "cell_type": "code",
      "execution_count": null,
      "metadata": {
        "id": "W4Zzz9kE5B2Q"
      },
      "outputs": [],
      "source": [
        "prepared_signal = demo_signal.reshape((1, -1, 1)).astype(np.float32)\n",
        "scalogram = cwt(prepared_signal)"
      ]
    },
    {
      "cell_type": "code",
      "execution_count": null,
      "metadata": {
        "id": "QB8UP9sT5Zek"
      },
      "outputs": [],
      "source": [
        "with tf.compat.v1.Session() as sess:\n",
        "    sess.run(tf.compat.v1.global_variables_initializer())\n",
        "    np_scalogram = sess.run(scalogram)\n",
        "# print(\"The result has shape\", np_scalogram.shape)"
      ]
    },
    {
      "cell_type": "code",
      "execution_count": null,
      "metadata": {
        "id": "7ZvwWEcv5dXA"
      },
      "outputs": [],
      "source": [
        "scalogram_real = np_scalogram[0, :, :, 0]\n",
        "scalogram_imag = np_scalogram[0, :, :, 1]\n",
        "scalogram_magn = np.sqrt(scalogram_real ** 2 + scalogram_imag ** 2)\n",
        "freq_pos = np.linspace(0, 1, n_scales)\n",
        "freq_val = cwt.frequencies[::-1]\n",
        "idx_useful = [0, n_scales-1]\n",
        "chosen_freq_val = freq_val[idx_useful]\n",
        "chosen_freq_pos = freq_pos[idx_useful]\n",
        "\n",
        "# fig, axes = plt.subplots(4, 1, figsize=(10, 7), dpi=80, sharex=True)\n",
        "# axes[0].plot(demo_signal, linewidth=0.8)\n",
        "# axes[0].set_title(\"Demo signal\")\n",
        "# axes[1].imshow(scalogram_real.T, interpolation=\"none\", aspect=\"auto\", extent=[0, scalogram_real.shape[0], 0, 1])\n",
        "# axes[1].set_title(\"Real part of scalogram\")\n",
        "# axes[1].set_yticks(chosen_freq_pos)\n",
        "# axes[1].set_yticklabels(['%1.1f Hz' % f for f in chosen_freq_val])\n",
        "# axes[2].imshow(scalogram_imag.T, interpolation=\"none\", aspect=\"auto\", extent=[0, scalogram_imag.shape[0], 0, 1])\n",
        "# axes[2].set_title(\"Imaginary part of scalogram\")\n",
        "# axes[2].set_yticks(chosen_freq_pos)\n",
        "# axes[2].set_yticklabels(['%1.1f Hz' % f for f in chosen_freq_val])\n",
        "# axes[3].imshow(scalogram_magn.T, interpolation=\"none\", aspect=\"auto\", extent=[0, scalogram_magn.shape[0], 0, 1])\n",
        "# axes[3].set_title(\"Magnitude of scalogram\")\n",
        "# axes[3].set_yticks(chosen_freq_pos)\n",
        "# axes[3].set_yticklabels(['%1.1f Hz' % f for f in chosen_freq_val])\n",
        "# axes[3].set_xlabel(\"Time [samples]\")\n",
        "# plt.tight_layout()"
      ]
    },
    {
      "cell_type": "code",
      "execution_count": null,
      "metadata": {
        "colab": {
          "base_uri": "https://localhost:8080/"
        },
        "id": "d8oCpGxm7zU8",
        "outputId": "1f15d0b7-4081-4568-c3e0-bedc52b5ced9"
      },
      "outputs": [
        {
          "name": "stdout",
          "output_type": "stream",
          "text": [
            "The result has shape (1, 920752, 32, 2)\n"
          ]
        }
      ],
      "source": [
        "tf.compat.v1.reset_default_graph()\n",
        "cwt = ComplexMorletCWT(wavelet_width, fs, lower_freq, upper_freq, n_scales, border_crop=424)\n",
        "scalogram = cwt(prepared_signal)\n",
        "with tf.compat.v1.Session() as sess:\n",
        "    sess.run(tf.compat.v1.global_variables_initializer())\n",
        "    np_scalogram = sess.run(scalogram)\n",
        "print(\"The result has shape\", np_scalogram.shape)\n",
        "\n",
        "scalogram_real = np_scalogram[0, :, :, 0]\n",
        "scalogram_imag = np_scalogram[0, :, :, 1]\n",
        "scalogram_magn = np.sqrt(scalogram_real ** 2 + scalogram_imag ** 2)\n",
        "\n",
        "freq_pos = np.linspace(0, 1, n_scales)\n",
        "freq_val = cwt.frequencies[::-1]\n",
        "idx_useful = [0, n_scales-1]\n",
        "chosen_freq_val = freq_val[idx_useful]\n",
        "chosen_freq_pos = freq_pos[idx_useful]\n",
        "\n",
        "# fig, ax = plt.subplots(1, 1, figsize=(2, 1.8), dpi=80)\n",
        "# ax.imshow(scalogram_magn.T, interpolation=\"none\", aspect=\"auto\", extent=[0, scalogram_magn.shape[0], 0, 1])\n",
        "# ax.set_yticks(chosen_freq_pos)\n",
        "# ax.set_yticklabels(['%1.1f Hz' % f for f in chosen_freq_val])\n",
        "# ax.set_title(\"Magnitude of scalogram\")\n",
        "# ax.set_xlabel(\"Time [samples]\")"
      ]
    },
    {
      "cell_type": "code",
      "execution_count": null,
      "metadata": {
        "id": "XHoX90IO74vo"
      },
      "outputs": [],
      "source": [
        "wavelet_width_list = [1.0]\n",
        "scalograms_list = []\n",
        "for wavelet_width in wavelet_width_list:\n",
        "    tf.compat.v1.reset_default_graph()\n",
        "    cwt = ComplexMorletCWT(wavelet_width, fs, lower_freq, upper_freq, n_scales, border_crop=0, stride=1)\n",
        "    scalogram = cwt(prepared_signal)\n",
        "    with tf.compat.v1.Session() as sess:\n",
        "        sess.run(tf.compat.v1.global_variables_initializer())\n",
        "        np_scalogram = sess.run(scalogram)\n",
        "    scalogram_real = np_scalogram[0, :, :, 0]\n",
        "    scalogram_imag = np_scalogram[0, :, :, 1]\n",
        "    scalogram_magn = np.sqrt(scalogram_real ** 2 + scalogram_imag ** 2)\n",
        "    scalograms_list.append(scalogram_magn)\n",
        "\n",
        "freq_pos = np.linspace(0, 1, n_scales)\n",
        "freq_val = cwt.frequencies[::-1]\n",
        "idx_useful = [0, n_scales-1]\n",
        "chosen_freq_val = freq_val[idx_useful]\n",
        "chosen_freq_pos = freq_pos[idx_useful]\n",
        "\n"
      ]
    },
    {
      "cell_type": "code",
      "execution_count": null,
      "metadata": {
        "colab": {
          "base_uri": "https://localhost:8080/",
          "height": 608
        },
        "id": "xwXe1BE_7_u7",
        "outputId": "9b9d2649-f453-4f3c-80eb-da612e26c89b"
      },
      "outputs": [
        {
          "data": {
            "image/png": "[encoded data removed]",
            "text/plain": [
              "<Figure size 800x400 with 2 Axes>"
            ]
          },
          "metadata": {},
          "output_type": "display_data"
        },
        {
          "data": {
            "image/png": "[encoded data removed]",
            "text/plain": [
              "<Figure size 240x240 with 1 Axes>"
            ]
          },
          "metadata": {},
          "output_type": "display_data"
        }
      ],
      "source": [
        "n_samples = 1000\n",
        "central_freq = 13\n",
        "time_axis = np.arange(n_samples) / fs\n",
        "oscill = np.cos(2 * np.pi * central_freq * time_axis)\n",
        "window = np.exp(- (time_axis - np.mean(time_axis)) ** 2 / 0.1)\n",
        "synt_signal = oscill * window\n",
        "\n",
        "prepared_synt_signal = synt_signal.reshape((1, -1, 1)).astype(np.float32)\n",
        "\n",
        "wavelet_width_list = [1.0]\n",
        "scalograms_list = []\n",
        "for wavelet_width in wavelet_width_list:\n",
        "    tf.compat.v1.reset_default_graph()\n",
        "    cwt = ComplexMorletCWT(wavelet_width, fs, lower_freq, upper_freq, n_scales, border_crop=0, stride=1)\n",
        "    scalogram = cwt(prepared_synt_signal)\n",
        "    with tf.compat.v1.Session() as sess:\n",
        "        sess.run(tf.compat.v1.global_variables_initializer())\n",
        "        np_scalogram = sess.run(scalogram)\n",
        "    scalogram_real = np_scalogram[0, :, :, 0]\n",
        "    scalogram_imag = np_scalogram[0, :, :, 1]\n",
        "    scalogram_magn = np.sqrt(scalogram_real ** 2 + scalogram_imag ** 2)\n",
        "    scalograms_list.append(scalogram_magn)\n",
        "\n",
        "freq_pos = np.linspace(0, 1, n_scales)\n",
        "freq_val = cwt.frequencies[::-1]\n",
        "idx_useful = [0, n_scales-1]\n",
        "chosen_freq_val = freq_val[idx_useful]\n",
        "chosen_freq_pos = freq_pos[idx_useful]\n",
        "\n",
        "fig, axes = plt.subplots(2, 1, figsize=(10, 5), dpi=80, sharex=True)\n",
        "axes[0].plot(synt_signal, linewidth=0.8)\n",
        "axes[0].set_title(\"Synthetic signal: windowed %1.1f Hz oscillation\" % central_freq)\n",
        "\n",
        "\n",
        "axes[1].imshow(\n",
        "    scalograms_list[0].T, interpolation=\"none\", aspect=\"auto\",\n",
        "    extent=[0, scalograms_list[0].shape[0], 0, 1])\n",
        "axes[1].set_yticks(chosen_freq_pos)\n",
        "axes[1].set_yticklabels(['%1.1f Hz' % f for f in chosen_freq_val])\n",
        "axes[1].set_title(r\"Magnitude of scalogram with $\\beta$ = %1.1f\" % wavelet_width_list[0])\n",
        "axes[1].set_xlabel(\"Time [samples]\")\n",
        "plt.tight_layout()\n",
        "\n",
        "plt.figure(figsize=(3,3), dpi=80)\n",
        "plt.imshow(\n",
        "    scalograms_list[0].T, interpolation=\"none\", aspect=\"auto\",\n",
        "    extent=[0, scalograms_list[0].shape[0], 0, 1])\n",
        "plt.axis('off')\n",
        "plt.savefig(\"img34_3.png\", bbox_inches='tight', pad_inches=0)"
      ]
    }
  ],
  "metadata": {
    "accelerator": "GPU",
    "colab": {
      "gpuType": "T4",
      "provenance": []
    },
    "kernelspec": {
      "display_name": "Python 3",
      "name": "python3"
    },
    "language_info": {
      "name": "python"
    }
  },
  "nbformat": 4,
  "nbformat_minor": 0
}
